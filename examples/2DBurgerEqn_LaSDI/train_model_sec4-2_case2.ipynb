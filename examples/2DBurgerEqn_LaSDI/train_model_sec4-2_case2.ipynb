{
 "cells": [
  {
   "cell_type": "code",
   "execution_count": 1,
   "id": "d40b4d1e-44b4-4c41-b943-bcd9a8ae039d",
   "metadata": {},
   "outputs": [
    {
     "name": "stdout",
     "output_type": "stream",
     "text": [
      "WARNING:tensorflow:From /g/g92/he10/.conda/envs/tfvenv/lib/python3.7/site-packages/tensorflow/python/compat/v2_compat.py:96: disable_resource_variables (from tensorflow.python.ops.variable_scope) is deprecated and will be removed in a future version.\n",
      "Instructions for updating:\n",
      "non-resource variables are not supported in the long term\n"
     ]
    }
   ],
   "source": [
    "import sys\n",
    "sys.path.append(\"../../src\")\n",
    "import os\n",
    "import datetime\n",
    "import pandas as pd\n",
    "import numpy as np\n",
    "import numpy as np\n",
    "from sindy_utils import *\n",
    "from training_LaSDI import train_autoencoder, train_DI\n",
    "from autoencoder_LaSDI import AE_network\n",
    "\n",
    "import tensorflow.compat.v1 as tf\n",
    "tf.compat.v1.disable_v2_behavior()\n",
    "\n",
    "from time import time\n",
    "import matplotlib.pyplot as plt\n",
    "from sklearn.preprocessing import StandardScaler, MinMaxScaler\n",
    "import pickle \n",
    "import copy\n",
    "import subprocess as sp\n",
    "import matplotlib.patches as patches\n",
    "import seaborn as sns\n",
    "from copy import deepcopy\n",
    "from matplotlib.ticker import FormatStrFormatter"
   ]
  },
  {
   "cell_type": "code",
   "execution_count": 2,
   "id": "36f63fbb-2cd3-4336-9d9a-a095c32a6685",
   "metadata": {},
   "outputs": [
    {
     "name": "stdout",
     "output_type": "stream",
     "text": [
      "PhysicalDevice(name='/physical_device:GPU:0', device_type='GPU'): free memory: 8611\n",
      "PhysicalDevice(name='/physical_device:GPU:1', device_type='GPU'): free memory: 16149\n",
      "PhysicalDevice(name='/physical_device:GPU:2', device_type='GPU'): free memory: 16149\n",
      "PhysicalDevice(name='/physical_device:GPU:3', device_type='GPU'): free memory: 16149\n"
     ]
    }
   ],
   "source": [
    "def get_gpu_memory():\n",
    "  _output_to_list = lambda x: x.decode('ascii').split('\\n')[:-1]\n",
    "\n",
    "  ACCEPTABLE_AVAILABLE_MEMORY = 1024\n",
    "  COMMAND = \"nvidia-smi --query-gpu=memory.free --format=csv\"\n",
    "  memory_free_info = _output_to_list(sp.check_output(COMMAND.split()))[1:]\n",
    "  memory_free_values = [int(x.split()[0]) for i, x in enumerate(memory_free_info)]\n",
    "  return memory_free_values\n",
    "\n",
    "device_list = tf.config.list_physical_devices('GPU')\n",
    "free_mem = get_gpu_memory()\n",
    "for i,gpu in enumerate(device_list):\n",
    "    print(f'{gpu}: free memory: {free_mem[i]}')"
   ]
  },
  {
   "cell_type": "code",
   "execution_count": 3,
   "id": "5f4366fd-118f-47e3-82d8-0f74e85a95b8",
   "metadata": {},
   "outputs": [],
   "source": [
    "# specify which GPU to use\n",
    "config = tf.ConfigProto(log_device_placement=False, gpu_options=tf.GPUOptions(allow_growth=True,visible_device_list='2'))"
   ]
  },
  {
   "cell_type": "markdown",
   "id": "dddfe261-8c25-4835-a781-f6dacf9aef67",
   "metadata": {},
   "source": [
    "# Load data"
   ]
  },
  {
   "cell_type": "code",
   "execution_count": 4,
   "id": "6309a36c-97bc-46d8-a20b-00045e773be4",
   "metadata": {},
   "outputs": [],
   "source": [
    "def preprocess_data(data, vel):\n",
    "    for i in range(len(data['data'])):\n",
    "        if vel == 1:\n",
    "            data['data'][i]['x'] = data['data'][i].pop('u')\n",
    "            data['data'][i]['dx'] = data['data'][i].pop('du')\n",
    "            data['data'][i].pop('v')\n",
    "            data['data'][i].pop('dv')\n",
    "        elif vel == 2:\n",
    "            data['data'][i]['x'] = data['data'][i].pop('v')\n",
    "            data['data'][i]['dx'] = data['data'][i].pop('dv')\n",
    "            data['data'][i].pop('u')\n",
    "            data['data'][i].pop('du')\n",
    "        elif vel == 3:\n",
    "            data['data'][i]['x'] = np.hstack((data['data'][i]['u'], data['data'][i]['v']))\n",
    "            data['data'][i]['dx'] = np.hstack((data['data'][i]['du'], data['data'][i]['dv']))\n",
    "    return data"
   ]
  },
  {
   "cell_type": "code",
   "execution_count": 5,
   "id": "423ff0cc-f668-4a7c-a3f8-de23ec1e5606",
   "metadata": {},
   "outputs": [
    {
     "name": "stdout",
     "output_type": "stream",
     "text": [
      "train case 0: params: [0.7 0.9], x shape: (201, 7200)\n",
      "train case 1: params: [0.7 1.1], x shape: (201, 7200)\n",
      "train case 2: params: [0.9 0.9], x shape: (201, 7200)\n",
      "train case 3: params: [0.9 1.1], x shape: (201, 7200)\n"
     ]
    }
   ],
   "source": [
    "# load training data\n",
    "vel = 3    # 1: u; 2: v; 3: u and v\n",
    "scaled_AE = 1 # 1: normalize data (for physical variables)\n",
    "scaled_DI = 1 # 1: normalize data (for latent variables)\n",
    "option = 2 # 1: mean=0, std=1; 2: max=1; 3: [0,1]\n",
    "Re = 10000\n",
    "ic = 2     # initial condition, 1: Sine; 2: Gaussian\n",
    "nx = 60\n",
    "ny = nx\n",
    "nt = 200\n",
    "tstop = 1\n",
    "\n",
    "amp_train = np.linspace(0.7, 0.9, 6)\n",
    "width_train = np.linspace(0.9, 1.1, 6)\n",
    "num_train = amp_train.size * width_train.size # initial number of training data\n",
    "train_data = pickle.load(open(f\"./data/local{num_train}_Re{Re}_tstop{tstop:.1f}_nt{nt}_nx{nx}.p\", \"rb\"))\n",
    "train_data = preprocess_data(train_data, vel)\n",
    "num_DI = len(train_data['data'])\n",
    "input_dim = train_data['data'][0]['x'].shape[1]\n",
    "\n",
    "for i in range(num_DI):\n",
    "    print(f\"train case {i}: params: {train_data['param'][i]}, x shape: {train_data['data'][i]['x'].shape}\")"
   ]
  },
  {
   "cell_type": "code",
   "execution_count": 7,
   "id": "db6eda8b-af8c-4d0f-acef-c8215279dd0c",
   "metadata": {},
   "outputs": [
    {
     "name": "stdout",
     "output_type": "stream",
     "text": [
      "(804, 7200)\n"
     ]
    }
   ],
   "source": [
    "train_data_AE = []\n",
    "for i in range(num_train):\n",
    "    train_data_AE.append(train_data['data'][i]['x'])\n",
    "train_data_AE = np.vstack(train_data_AE)\n",
    "train_data_x = deepcopy(train_data_AE)\n",
    "print(train_data_AE.shape)"
   ]
  },
  {
   "cell_type": "markdown",
   "id": "b0b819ce-679a-4530-b5fa-6a01501690b0",
   "metadata": {},
   "source": [
    "# Set up model and training parameters"
   ]
  },
  {
   "cell_type": "code",
   "execution_count": 7,
   "id": "21450465-41eb-4a14-9f7a-81e2d8f5ee39",
   "metadata": {},
   "outputs": [],
   "source": [
    "params_AE = {}\n",
    "\n",
    "params_AE['seed'] = 1 # random seed\n",
    "params_AE['config'] = config\n",
    "params_AE['input_dim'] = input_dim\n",
    "params_AE['latent_dim'] = 3\n",
    "params_AE['activation'] = 'sigmoid'\n",
    "params_AE['widths'] = [100]\n",
    "\n",
    "# training parameters\n",
    "params_AE['epoch_size_AE'] = train_data_AE.shape[0]\n",
    "params_AE['batch_size'] = 100\n",
    "params_AE['learning_rate'] = 5e-6\n",
    "params_AE['fig_path'] = os.getcwd() + '/fig/nCase36_ld3_p1_width100_lr5e-6_1e-4_scaledAE_scaledDI/'\n",
    "params_AE['print_frequency'] = 100\n",
    "\n",
    "# training time cutoffs\n",
    "params_AE['max_epochs_AE'] = 100000  # max number of training epochs       \n",
    "\n",
    "# PDE parameters\n",
    "params_AE['pde'] = {}\n",
    "params_AE['pde']['Re'] = Re\n",
    "params_AE['pde']['nx'] = nx\n",
    "params_AE['pde']['nt'] = nt\n",
    "params_AE['pde']['tstop'] = tstop\n",
    "params_AE['pde']['ic'] = ic\n",
    "params_AE['pde']['vel'] = vel\n",
    "\n",
    "# normalization\n",
    "params_AE['scaled'] = scaled_AE # if data is normalized"
   ]
  },
  {
   "cell_type": "code",
   "execution_count": 8,
   "id": "cc1f77c4-8047-4a79-84c4-c29754b0570b",
   "metadata": {},
   "outputs": [],
   "source": [
    "params_DI = {}\n",
    "\n",
    "params_DI['seed'] = 1 # random seed\n",
    "params_DI['config'] = config\n",
    "params_DI['num_DI'] = num_DI\n",
    "params_DI['param'] = train_data['param']\n",
    "params_DI['latent_dim'] = params_AE['latent_dim']\n",
    "params_DI['model_order'] = 1\n",
    "params_DI['poly_order'] = 1\n",
    "params_DI['include_sine'] = False\n",
    "params_DI['include_cosine'] = False\n",
    "params_DI['include_costant'] = True\n",
    "params_DI['library_dim'] = library_size(params_DI['latent_dim'], params_DI['poly_order'], \n",
    "                                     params_DI['include_sine'], params_DI['include_cosine'], \n",
    "                                     params_DI['include_costant'])\n",
    "\n",
    "# sequential thresholding parameters\n",
    "params_DI['sequential_thresholding'] = False\n",
    "params_DI['coefficient_threshold'] = 0.1\n",
    "params_DI['threshold_frequency'] = 500\n",
    "params_DI['coefficient_mask'] = np.ones((params_DI['library_dim'], params_DI['latent_dim']))\n",
    "params_DI['coefficient_initialization'] = 'constant'\n",
    "\n",
    "# training parameters\n",
    "params_DI['epoch_size_DI'] = train_data['data'][0]['x'].shape[0]\n",
    "params_DI['batch_size'] = 100\n",
    "params_DI['learning_rate'] = 1e-4\n",
    "params_DI['fig_path'] = params_AE['fig_path']\n",
    "params_DI['print_frequency'] = 100\n",
    "\n",
    "# training time cutoffs\n",
    "params_DI['max_epochs_DI'] = 200000  # max number of training epochs        \n",
    "\n",
    "# PDE parameters\n",
    "params_DI['pde'] = {}\n",
    "params_DI['pde']['Re'] = Re\n",
    "params_DI['pde']['nx'] = nx\n",
    "params_DI['pde']['nt'] = nt\n",
    "params_DI['pde']['tstop'] = tstop\n",
    "params_DI['pde']['ic'] = ic\n",
    "params_DI['pde']['vel'] = vel\n",
    "\n",
    "# normalization\n",
    "params_DI['scaled'] = scaled_DI # if data is normalized"
   ]
  },
  {
   "cell_type": "markdown",
   "id": "cb70f0b6-24c7-4fa2-a168-f8061a5e973e",
   "metadata": {
    "tags": []
   },
   "source": [
    "# Train Autoencoder"
   ]
  },
  {
   "cell_type": "code",
   "execution_count": 10,
   "id": "b1acc6ed-6780-4456-bb07-e25ba5131cdf",
   "metadata": {},
   "outputs": [],
   "source": [
    "if scaled_AE:\n",
    "    x_scaler = MinMaxScaler()\n",
    "    train_data_AE = x_scaler.fit_transform(train_data_AE)\n",
    "    params_AE['x_min'] = x_scaler.min_\n",
    "    params_AE['x_scale'] = x_scaler.scale_"
   ]
  },
  {
   "cell_type": "code",
   "execution_count": 11,
   "id": "b4d3ecc8-c219-4e20-ac21-d648f804af33",
   "metadata": {
    "tags": []
   },
   "outputs": [
    {
     "name": "stdout",
     "output_type": "stream",
     "text": [
      "Epoch 0, loss: 2.6234e-01\n",
      "training time: 0.09 mins\n",
      "max autoencoder error: 93.82 %\n"
     ]
    }
   ],
   "source": [
    "df = pd.DataFrame()\n",
    "timer = []\n",
    "timer.append(time())\n",
    "\n",
    "params_AE['save_name'] = 'burger_AE_' + datetime.datetime.now().strftime(\"%Y_%m_%d_%H_%M_%S\")\n",
    "    \n",
    "tf.reset_default_graph()\n",
    "results_dict,x_decode,z = train_autoencoder(train_data_AE, params_AE)\n",
    "df = df.append({**results_dict}, ignore_index=True)\n",
    "\n",
    "timer.append(time())\n",
    "print(f'training time: {(timer[-1]-timer[0])/60:.2f} mins')\n",
    "if scaled_AE:\n",
    "    x_decode = x_scaler.inverse_transform(x_decode)\n",
    "err_decoder = np.linalg.norm(train_data_x - x_decode, axis=1) / np.linalg.norm(train_data_x, axis=1)*100\n",
    "print(f'max autoencoder error: {err_decoder.max():.2f} %')"
   ]
  },
  {
   "cell_type": "code",
   "execution_count": 10,
   "id": "27de680f-7ad6-4989-88f6-5df1e0b0a1ec",
   "metadata": {},
   "outputs": [
    {
     "data": {
      "image/png": "[encoded data removed]",
      "text/plain": [
       "<Figure size 648x360 with 1 Axes>"
      ]
     },
     "metadata": {
      "needs_background": "light"
     },
     "output_type": "display_data"
    }
   ],
   "source": [
    "# loss history\n",
    "train_loss = np.array(results_dict['train_losses_AE']).squeeze()\n",
    "# test_loss = np.array(results_df['testing_losses'][0]).squeeze()\n",
    "\n",
    "fig, ax1 = plt.subplots(figsize=(9,5))\n",
    "xt = np.linspace(1,results_dict['max_epochs_AE'],train_loss.size)\n",
    "ax1.plot(xt, train_loss, 'r', label='Train')\n",
    "ax1.set_yscale('log')\n",
    "ax1.xaxis.set_major_formatter(FormatStrFormatter('%.f'))\n",
    "ax1.set_xlabel('Epochs', fontsize=16)\n",
    "ax1.set_ylabel('Loss', color='r', fontsize=16)\n",
    "ax1.set_xlim(0, results_dict['max_epochs_AE'])\n",
    "ax1.tick_params(axis='x', labelsize=14)\n",
    "ax1.tick_params(axis='y', labelsize=16)\n",
    "ax1.tick_params(axis='y', labelcolor='r')\n",
    "plt.grid()\n",
    "plt.tight_layout()\n",
    "plt.savefig(params_AE['fig_path'] + f\"/loss_AE.png\")"
   ]
  },
  {
   "cell_type": "markdown",
   "id": "5b9a7148-e09d-4075-bd50-52fde4d6a06c",
   "metadata": {},
   "source": [
    "# Train Dynamics Identification Models"
   ]
  },
  {
   "cell_type": "code",
   "execution_count": 24,
   "id": "472d45f7-d968-4e73-9666-06734a20dd63",
   "metadata": {},
   "outputs": [],
   "source": [
    "# def derivative(X):\n",
    "#     dXdt = np.empty(X.shape)\n",
    "#     D = D_Lele(X.shape[0], tstop/X.shape[0])   \n",
    "#     for i in range(X.shape[1]):\n",
    "#         dXdt[:,i] = np.dot(D.toarray(), X[:,i])\n",
    "#     del D\n",
    "#     return dXdt"
   ]
  },
  {
   "cell_type": "code",
   "execution_count": 30,
   "id": "9acb3568-79c8-4514-a3cc-501a9a774782",
   "metadata": {},
   "outputs": [
    {
     "name": "stdout",
     "output_type": "stream",
     "text": [
      "(201, 5) (201, 5)\n"
     ]
    }
   ],
   "source": [
    "# # calculate dz/dt\n",
    "# if scaled_DI:\n",
    "#     z_scaler = MinMaxScaler()\n",
    "#     z_scaler.fit(z)\n",
    "#     params_DI['z_min'] = z_scaler.min_\n",
    "#     params_DI['z_scale'] = z_scaler.scale_\n",
    "# for i in range(num_train):\n",
    "#     z_tmp = z[i*(nt+1):(i+1)*(nt+1),:]\n",
    "#     if scaled_DI:\n",
    "#         z_tmp = z_scaler.transform(z_tmp)\n",
    "#     dzdt = derivative(z_tmp)\n",
    "#     train_data['data'][i]['z'] = z_tmp\n",
    "#     train_data['data'][i]['dz'] = dzdt\n",
    "# print(train_data['data'][0]['z'].shape, train_data['data'][0]['dz'].shape)"
   ]
  },
  {
   "cell_type": "code",
   "execution_count": null,
   "id": "8d505b8b-9d3b-4f5f-be73-11d06e1a3a9b",
   "metadata": {
    "collapsed": true,
    "jupyter": {
     "outputs_hidden": true
    },
    "tags": []
   },
   "outputs": [
    {
     "name": "stdout",
     "output_type": "stream",
     "text": [
      "Epoch 0, loss: 1.1212e+03\n",
      "Epoch 100, loss: 1.0832e+03\n",
      "Epoch 200, loss: 1.0462e+03\n",
      "Epoch 300, loss: 1.0102e+03\n",
      "Epoch 400, loss: 9.7506e+02\n",
      "Epoch 500, loss: 9.4081e+02\n",
      "Epoch 600, loss: 9.0741e+02\n",
      "Epoch 700, loss: 8.7484e+02\n",
      "Epoch 800, loss: 8.4306e+02\n",
      "Epoch 900, loss: 8.1205e+02\n",
      "Epoch 1000, loss: 7.8181e+02\n",
      "Epoch 1100, loss: 7.5230e+02\n",
      "Epoch 1200, loss: 7.2351e+02\n",
      "Epoch 1300, loss: 6.9542e+02\n",
      "Epoch 1400, loss: 6.6803e+02\n",
      "Epoch 1500, loss: 6.4131e+02\n",
      "Epoch 1600, loss: 6.1526e+02\n",
      "Epoch 1700, loss: 5.8986e+02\n",
      "Epoch 1800, loss: 5.6511e+02\n",
      "Epoch 1900, loss: 5.4100e+02\n",
      "Epoch 2000, loss: 5.1752e+02\n",
      "Epoch 2100, loss: 4.9465e+02\n",
      "Epoch 2200, loss: 4.7240e+02\n",
      "Epoch 2300, loss: 4.5076e+02\n",
      "Epoch 2400, loss: 4.2972e+02\n",
      "Epoch 2500, loss: 4.0928e+02\n",
      "Epoch 2600, loss: 3.8943e+02\n",
      "Epoch 2700, loss: 3.7017e+02\n",
      "Epoch 2800, loss: 3.5149e+02\n",
      "Epoch 2900, loss: 3.3338e+02\n",
      "Epoch 3000, loss: 3.1585e+02\n",
      "Epoch 3100, loss: 2.9889e+02\n",
      "Epoch 3200, loss: 2.8249e+02\n",
      "Epoch 3300, loss: 2.6665e+02\n",
      "Epoch 3400, loss: 2.5137e+02\n",
      "Epoch 3500, loss: 2.3663e+02\n",
      "Epoch 3600, loss: 2.2245e+02\n",
      "Epoch 3700, loss: 2.0880e+02\n",
      "Epoch 3800, loss: 1.9570e+02\n",
      "Epoch 3900, loss: 1.8312e+02\n",
      "Epoch 4000, loss: 1.7107e+02\n",
      "Epoch 4100, loss: 1.5955e+02\n",
      "Epoch 4200, loss: 1.4854e+02\n",
      "Epoch 4300, loss: 1.3804e+02\n",
      "Epoch 4400, loss: 1.2804e+02\n",
      "Epoch 4500, loss: 1.1854e+02\n",
      "Epoch 4600, loss: 1.0953e+02\n",
      "Epoch 4700, loss: 1.0100e+02\n",
      "Epoch 4800, loss: 9.2947e+01\n",
      "Epoch 4900, loss: 8.5360e+01\n",
      "Epoch 5000, loss: 7.8230e+01\n",
      "Epoch 5100, loss: 7.1549e+01\n",
      "Epoch 5200, loss: 6.5306e+01\n",
      "Epoch 5300, loss: 5.9490e+01\n",
      "Epoch 5400, loss: 5.4090e+01\n",
      "Epoch 5500, loss: 4.9094e+01\n",
      "Epoch 5600, loss: 4.4490e+01\n",
      "Epoch 5700, loss: 4.0263e+01\n",
      "Epoch 5800, loss: 3.6399e+01\n",
      "Epoch 5900, loss: 3.2883e+01\n",
      "Epoch 6000, loss: 2.9698e+01\n",
      "Epoch 6100, loss: 2.6828e+01\n",
      "Epoch 6200, loss: 2.4253e+01\n",
      "Epoch 6300, loss: 2.1957e+01\n",
      "Epoch 6400, loss: 1.9919e+01\n",
      "Epoch 6500, loss: 1.8118e+01\n",
      "Epoch 6600, loss: 1.6535e+01\n",
      "Epoch 6700, loss: 1.5149e+01\n",
      "Epoch 6800, loss: 1.3939e+01\n",
      "Epoch 6900, loss: 1.2885e+01\n",
      "Epoch 7000, loss: 1.1967e+01\n",
      "Epoch 7100, loss: 1.1166e+01\n",
      "Epoch 7200, loss: 1.0466e+01\n",
      "Epoch 7300, loss: 9.8488e+00\n",
      "Epoch 7400, loss: 9.3020e+00\n",
      "Epoch 7500, loss: 8.8130e+00\n",
      "Epoch 7600, loss: 8.3715e+00\n",
      "Epoch 7700, loss: 7.9689e+00\n",
      "Epoch 7800, loss: 7.5985e+00\n",
      "Epoch 7900, loss: 7.2548e+00\n",
      "Epoch 8000, loss: 6.9337e+00\n",
      "Epoch 8100, loss: 6.6318e+00\n",
      "Epoch 8200, loss: 6.3465e+00\n",
      "Epoch 8300, loss: 6.0759e+00\n",
      "Epoch 8400, loss: 5.8183e+00\n",
      "Epoch 8500, loss: 5.5727e+00\n",
      "Epoch 8600, loss: 5.3380e+00\n",
      "Epoch 8700, loss: 5.1135e+00\n",
      "Epoch 8800, loss: 4.8987e+00\n",
      "Epoch 8900, loss: 4.6931e+00\n",
      "Epoch 9000, loss: 4.4964e+00\n",
      "Epoch 9100, loss: 4.3082e+00\n",
      "Epoch 9200, loss: 4.1282e+00\n",
      "Epoch 9300, loss: 3.9562e+00\n",
      "Epoch 9400, loss: 3.7919e+00\n",
      "Epoch 9500, loss: 3.6350e+00\n",
      "Epoch 9600, loss: 3.4854e+00\n",
      "Epoch 9700, loss: 3.3428e+00\n",
      "Epoch 9800, loss: 3.2069e+00\n",
      "Epoch 9900, loss: 3.0775e+00\n",
      "Epoch 10000, loss: 2.9544e+00\n",
      "Epoch 10100, loss: 2.8374e+00\n",
      "Epoch 10200, loss: 2.7263e+00\n"
     ]
    }
   ],
   "source": [
    "# df = pd.DataFrame()\n",
    "# timer = []\n",
    "# timer.append(time())\n",
    "\n",
    "# params_DI['save_name'] = 'burger_DI_' + datetime.datetime.now().strftime(\"%Y_%m_%d_%H_%M_%S\")\n",
    "    \n",
    "# tf.reset_default_graph()\n",
    "# results_dict = train_DI(train_data, params_DI)\n",
    "# df = df.append({**results_dict}, ignore_index=True)\n",
    "\n",
    "# timer.append(time())\n",
    "# print(f'training time: {(timer[-1]-timer[0])/60:.2f} mins')"
   ]
  },
  {
   "cell_type": "code",
   "execution_count": 18,
   "id": "0889d20b-39a8-4282-8ab5-c7c1d01d0121",
   "metadata": {},
   "outputs": [
    {
     "data": {
      "image/png": "[encoded data removed]",
      "text/plain": [
       "<Figure size 648x360 with 1 Axes>"
      ]
     },
     "metadata": {
      "needs_background": "light"
     },
     "output_type": "display_data"
    }
   ],
   "source": [
    "# # loss history\n",
    "# train_loss = np.array(results_dict['train_losses_DI']).squeeze()\n",
    "# # test_loss = np.array(results_df['testing_losses'][0]).squeeze()\n",
    "\n",
    "# fig, ax1 = plt.subplots(figsize=(9,5))\n",
    "# xt = np.linspace(1,results_dict['max_epochs_DI'],train_loss.size)\n",
    "# ax1.plot(xt, train_loss, 'r', label='Train')\n",
    "# ax1.set_yscale('log')\n",
    "# ax1.xaxis.set_major_formatter(FormatStrFormatter('%.f'))\n",
    "# ax1.set_xlabel('Epochs', fontsize=16)\n",
    "# ax1.set_ylabel('Loss', color='r', fontsize=16)\n",
    "# ax1.set_xlim(0, results_dict['max_epochs_DI'])\n",
    "# ax1.tick_params(axis='x', labelsize=14)\n",
    "# ax1.tick_params(axis='y', labelsize=16)\n",
    "# ax1.tick_params(axis='y', labelcolor='r')\n",
    "# plt.grid()\n",
    "# plt.tight_layout()\n",
    "# plt.savefig(params_DI['fig_path'] + f\"/loss_DI.png\")"
   ]
  },
  {
   "cell_type": "code",
   "execution_count": null,
   "id": "e92393c3-970e-4676-bb19-12d81bf26f6e",
   "metadata": {},
   "outputs": [],
   "source": []
  }
 ],
 "metadata": {
  "kernelspec": {
   "display_name": "tfvenv",
   "language": "python",
   "name": "tfvenv"
  },
  "language_info": {
   "codemirror_mode": {
    "name": "ipython",
    "version": 3
   },
   "file_extension": ".py",
   "mimetype": "text/x-python",
   "name": "python",
   "nbconvert_exporter": "python",
   "pygments_lexer": "ipython3",
   "version": "3.7.9"
  }
 },
 "nbformat": 4,
 "nbformat_minor": 5
}
